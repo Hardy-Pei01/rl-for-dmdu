{
 "cells": [
  {
   "cell_type": "code",
   "execution_count": 5,
   "metadata": {},
   "outputs": [],
   "source": [
    "from gym import spaces\n",
    "import numpy as np\n",
    "import random\n",
    "import math\n",
    "from scipy.optimize import brentq\n",
    "from gym.utils import seeding\n",
    "\n",
    "\n",
    "class LakeDiscrete1():\n",
    "\n",
    "    def __init__(self):\n",
    "        self.b = np.array([0.42])\n",
    "        self.q = np.array([2])\n",
    "        self.mean = np.array([0.02])\n",
    "        self.stdev = np.array([0.0017])\n",
    "        self.delta = np.array([0.98])\n",
    "        self.alpha = 0.4\n",
    "\n",
    "        self.steps = 10\n",
    "        self.Pcrit = brentq(lambda x: x ** self.q / (1 + x ** self.q) - self.b * x, 0.01, 1.5)\n",
    "        self.natural_inflows = self.get_natural_inflows()\n",
    "\n",
    "        self.initial_state = np.array([0., 0., 1.])\n",
    "\n",
    "        self.action_space = spaces.Discrete(11)\n",
    "        self.observation_space = spaces.Box(low=np.array([0, 0, 0]),\n",
    "                                            high=np.array([2.3, 0.041, 1]), dtype=np.float)\n",
    "        self.reward_space = spaces.Box(low=np.array([0, 0]),\n",
    "                                       high=np.array([0.041, 0.11]), dtype=np.float)\n",
    "\n",
    "        self.gamma = 1\n",
    "        self.seed(1)\n",
    "\n",
    "    def get_natural_inflows(self):\n",
    "        return np.full(self.steps, self.mean ** 2 / math.sqrt(self.stdev ** 2 + self.mean ** 2))\n",
    "\n",
    "    def seed(self, seed=None):\n",
    "        random.seed(seed)\n",
    "        np.random.seed(seed)\n",
    "        self.action_space.seed(seed)\n",
    "        _, seed = seeding.np_random(seed)\n",
    "        return [seed]\n",
    "\n",
    "    def reset(self):\n",
    "        return self.initial_state\n",
    "\n",
    "    def simulator(self, state, action, curr_step):\n",
    "        action = action / 100\n",
    "        \n",
    "        prev_p = state[0]\n",
    "        next_P = \\\n",
    "            (1 - self.b) * prev_p + prev_p ** self.q / (1 + prev_p ** self.q) + \\\n",
    "            action + self.natural_inflows[curr_step - 1]\n",
    "        reliability = (next_P < self.Pcrit)\n",
    "        utility = self.alpha * action * np.power(self.delta, (curr_step - 1))\n",
    "\n",
    "        nextstate = np.array([next_P, utility, reliability])\n",
    "        reward = utility if reliability else 0\n",
    "\n",
    "        if curr_step == self.steps:\n",
    "            absorb = True\n",
    "        else:\n",
    "            absorb = False\n",
    "\n",
    "        return nextstate, reward, absorb\n"
   ]
  },
  {
   "cell_type": "code",
   "execution_count": 4,
   "metadata": {},
   "outputs": [
    {
     "name": "stdout",
     "output_type": "stream",
     "text": [
      "[0.04]\n",
      "[0.0392]\n",
      "[0.038416]\n",
      "[0.03764768]\n",
      "[0.03689473]\n",
      "[0.03615683]\n",
      "0\n",
      "0\n",
      "0\n",
      "0\n"
     ]
    },
    {
     "name": "stderr",
     "output_type": "stream",
     "text": [
      "/var/folders/sy/ng9rnmxj7qv9hlsm1w06xgpc0000gn/T/ipykernel_36951/986093261.py:28: DeprecationWarning: `np.float` is a deprecated alias for the builtin `float`. To silence this warning, use `float` by itself. Doing this will not modify any behavior and is safe. If you specifically wanted the numpy scalar type, use `np.float64` here.\n",
      "Deprecated in NumPy 1.20; for more details and guidance: https://numpy.org/devdocs/release/1.20.0-notes.html#deprecations\n",
      "  high=np.array([2.3, 0.041, 1]), dtype=np.float)\n",
      "/var/folders/sy/ng9rnmxj7qv9hlsm1w06xgpc0000gn/T/ipykernel_36951/986093261.py:30: DeprecationWarning: `np.float` is a deprecated alias for the builtin `float`. To silence this warning, use `float` by itself. Doing this will not modify any behavior and is safe. If you specifically wanted the numpy scalar type, use `np.float64` here.\n",
      "Deprecated in NumPy 1.20; for more details and guidance: https://numpy.org/devdocs/release/1.20.0-notes.html#deprecations\n",
      "  high=np.array([0.041, 0.11]), dtype=np.float)\n"
     ]
    }
   ],
   "source": [
    "env = LakeDiscrete1()\n",
    "steps = env.steps\n",
    "decisions = np.array([10 for i in range(steps)])\n",
    "state = env.reset()\n",
    "\n",
    "for t in range(0, steps):\n",
    "    action = decisions[t]\n",
    "    nextstate, reward, terminal = env.simulator(state, action, t+1)\n",
    "\n",
    "    print(reward)\n",
    "\n",
    "    state = nextstate"
   ]
  },
  {
   "cell_type": "code",
   "execution_count": null,
   "metadata": {},
   "outputs": [],
   "source": []
  }
 ],
 "metadata": {
  "kernelspec": {
   "display_name": "Python 3 (ipykernel)",
   "language": "python",
   "name": "python3"
  },
  "language_info": {
   "codemirror_mode": {
    "name": "ipython",
    "version": 3
   },
   "file_extension": ".py",
   "mimetype": "text/x-python",
   "name": "python",
   "nbconvert_exporter": "python",
   "pygments_lexer": "ipython3",
   "version": "3.9.12"
  }
 },
 "nbformat": 4,
 "nbformat_minor": 4
}
