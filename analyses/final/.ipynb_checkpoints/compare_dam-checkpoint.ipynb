{
 "cells": [
  {
   "cell_type": "code",
   "execution_count": 1,
   "metadata": {},
   "outputs": [],
   "source": [
    "import os, sys\n",
    "sys.path.append(os.path.abspath('../../'))\n",
    "import pandas as pd\n",
    "import numpy as np\n",
    "from EMAWorkbench import load_results\n",
    "from utils.rl.hv import HyperVolume\n",
    "\n",
    "def compute_hypervolume(df, antiutopia, utopia):\n",
    "    array = df.values\n",
    "    hv_computer = HyperVolume(antiutopia, utopia)\n",
    "    return hv_computer.compute(array)"
   ]
  },
  {
   "cell_type": "markdown",
   "metadata": {},
   "source": [
    "# Discrete Dam Problem"
   ]
  },
  {
   "cell_type": "code",
   "execution_count": 2,
   "metadata": {},
   "outputs": [
    {
     "data": {
      "text/plain": [
       "['.DS_Store',\n",
       " 'ea_1926216712',\n",
       " 'ea_3087161096',\n",
       " 'ea_3186775264',\n",
       " 'ea_3690172787',\n",
       " 'ea_462638671',\n",
       " 'nes_1926216712_28-07-2022-15-08_best.csv',\n",
       " 'nes_1926216712_28-07-2022-15-08_high.csv',\n",
       " 'nes_3087161096_28-07-2022-15-08_best.csv',\n",
       " 'nes_3087161096_28-07-2022-15-08_high.csv',\n",
       " 'nes_3186775264_28-07-2022-15-08_best.csv',\n",
       " 'nes_3186775264_28-07-2022-15-08_high.csv',\n",
       " 'nes_3690172787_28-07-2022-15-08_best.csv',\n",
       " 'nes_3690172787_28-07-2022-15-08_high.csv',\n",
       " 'nes_462638671_28-07-2022-15-09_best.csv',\n",
       " 'nes_462638671_28-07-2022-15-09_high.csv',\n",
       " 'repsep_1926216712_28-07-2022-15-09_best.csv',\n",
       " 'repsep_1926216712_28-07-2022-15-09_high.csv',\n",
       " 'repsep_3087161096_28-07-2022-15-09_best.csv',\n",
       " 'repsep_3087161096_28-07-2022-15-09_high.csv',\n",
       " 'repsep_3186775264_28-07-2022-15-09_best.csv',\n",
       " 'repsep_3186775264_28-07-2022-15-09_high.csv',\n",
       " 'repsep_3690172787_28-07-2022-15-09_best.csv',\n",
       " 'repsep_3690172787_28-07-2022-15-09_high.csv',\n",
       " 'repsep_462638671_28-07-2022-15-09_best.csv',\n",
       " 'repsep_462638671_28-07-2022-15-09_high.csv']"
      ]
     },
     "execution_count": 2,
     "metadata": {},
     "output_type": "execute_result"
    }
   ],
   "source": [
    "results_path='../../results/dam_discrete_performance/'\n",
    "files=sorted(os.listdir(results_path))\n",
    "files"
   ]
  },
  {
   "cell_type": "code",
   "execution_count": 3,
   "metadata": {},
   "outputs": [
    {
     "name": "stdout",
     "output_type": "stream",
     "text": [
      "ea_1926216712\n",
      "0.3999999999999999\n",
      "ea_3087161096\n",
      "0.3999999999999999\n",
      "ea_3186775264\n",
      "0.387421444\n",
      "ea_3690172787\n",
      "0.3913769457761283\n",
      "ea_462638671\n",
      "0.3999999999999999\n",
      "0.3957596779552256\n",
      "0.005341825155805251\n"
     ]
    }
   ],
   "source": [
    "ea_hv = []\n",
    "for i in range(1, 6):\n",
    "    ea=[]\n",
    "    ea_files = sorted(os.listdir(results_path + files[i]))\n",
    "    for j in range(len(ea_files)):\n",
    "        _, all_outcomes=load_results(results_path + files[i] + \"/\" + ea_files[j])\n",
    "        all_outcomes=dict((k, np.mean(all_outcomes[k])) for k in ('upstream_flooding', 'water_demand'))\n",
    "        ea.append(all_outcomes)\n",
    "        # print(ea_files[j])\n",
    "    ea=pd.DataFrame(ea)\n",
    "    each_ea_hv = compute_hypervolume(ea, np.array([-1, -10]), np.array([0, -9]))\n",
    "    ea_hv.append(each_ea_hv)\n",
    "    print(files[i])\n",
    "    # print(ea)\n",
    "    print(each_ea_hv)\n",
    "ea_hv = np.array(ea_hv)\n",
    "print(ea_hv.mean())\n",
    "print(ea_hv.std())"
   ]
  },
  {
   "cell_type": "code",
   "execution_count": 4,
   "metadata": {},
   "outputs": [
    {
     "name": "stdout",
     "output_type": "stream",
     "text": [
      "nes_1926216712_28-07-2022-15-08_best.csv\n",
      "0.3999999999999999\n",
      "nes_3087161096_28-07-2022-15-08_best.csv\n",
      "0.3999999999999999\n",
      "nes_3186775264_28-07-2022-15-08_best.csv\n",
      "0.3699999999999995\n",
      "nes_3690172787_28-07-2022-15-08_best.csv\n",
      "0.3884450415559677\n",
      "nes_462638671_28-07-2022-15-09_best.csv\n",
      "0.3999999999999999\n",
      "0.39168900831119335\n",
      "0.011731616686427157\n"
     ]
    }
   ],
   "source": [
    "nes_hv = []\n",
    "for i in range(6, 16, 2):\n",
    "    path = files[i]\n",
    "    nes = pd.read_csv(results_path + path)\n",
    "    each_nes_hv = compute_hypervolume(nes, np.array([-1, -10]), np.array([0, -9]))\n",
    "    nes_hv.append(each_nes_hv)\n",
    "    print(path)\n",
    "    # print(nes)\n",
    "    print(each_nes_hv)\n",
    "nes_hv = np.array(nes_hv)\n",
    "print(nes_hv.mean())\n",
    "print(nes_hv.std())"
   ]
  },
  {
   "cell_type": "code",
   "execution_count": 5,
   "metadata": {},
   "outputs": [
    {
     "name": "stdout",
     "output_type": "stream",
     "text": [
      "repsep_1926216712_28-07-2022-15-09_best.csv\n",
      "0.3537454441119352\n",
      "repsep_3087161096_28-07-2022-15-09_best.csv\n",
      "0.3999999999999999\n",
      "repsep_3186775264_28-07-2022-15-09_best.csv\n",
      "0.36844504155596747\n",
      "repsep_3690172787_28-07-2022-15-09_best.csv\n",
      "0.3999999999999999\n",
      "repsep_462638671_28-07-2022-15-09_best.csv\n",
      "0.3999999999999999\n",
      "0.38443809713358046\n",
      "0.019618028640448815\n"
     ]
    }
   ],
   "source": [
    "repsep_hv = []\n",
    "for i in range(16, 26, 2):\n",
    "    path = files[i]\n",
    "    repsep = pd.read_csv(results_path + path)\n",
    "    each_repsep_hv = compute_hypervolume(repsep, np.array([-1, -10]), np.array([0, -9]))\n",
    "    repsep_hv.append(each_repsep_hv)\n",
    "    print(path)\n",
    "    # print(repsep)\n",
    "    print(each_repsep_hv)\n",
    "repsep_hv = np.array(repsep_hv)\n",
    "print(repsep_hv.mean())\n",
    "print(repsep_hv.std())"
   ]
  },
  {
   "cell_type": "code",
   "execution_count": null,
   "metadata": {},
   "outputs": [],
   "source": []
  },
  {
   "cell_type": "code",
   "execution_count": 6,
   "metadata": {
    "scrolled": true,
    "tags": []
   },
   "outputs": [
    {
     "name": "stdout",
     "output_type": "stream",
     "text": [
      "ea_3186775264/28-07-2022-14-47_0.tar.gz\n",
      "ea_3186775264/28-07-2022-14-47_1.tar.gz\n",
      "ea_3186775264/28-07-2022-14-47_2.tar.gz\n",
      "ea_3186775264/28-07-2022-14-47_3.tar.gz\n",
      "0.387421444\n"
     ]
    },
    {
     "data": {
      "text/html": [
       "<div>\n",
       "<style scoped>\n",
       "    .dataframe tbody tr th:only-of-type {\n",
       "        vertical-align: middle;\n",
       "    }\n",
       "\n",
       "    .dataframe tbody tr th {\n",
       "        vertical-align: top;\n",
       "    }\n",
       "\n",
       "    .dataframe thead th {\n",
       "        text-align: right;\n",
       "    }\n",
       "</style>\n",
       "<table border=\"1\" class=\"dataframe\">\n",
       "  <thead>\n",
       "    <tr style=\"text-align: right;\">\n",
       "      <th></th>\n",
       "      <th>utility</th>\n",
       "      <th>reliability</th>\n",
       "      <th>Algorithms</th>\n",
       "    </tr>\n",
       "  </thead>\n",
       "  <tbody>\n",
       "    <tr>\n",
       "      <th>0</th>\n",
       "      <td>0.000000</td>\n",
       "      <td>-9.831446</td>\n",
       "      <td>$\\epsilon$-NSGA-II</td>\n",
       "    </tr>\n",
       "    <tr>\n",
       "      <th>1</th>\n",
       "      <td>-0.068554</td>\n",
       "      <td>-9.731446</td>\n",
       "      <td>$\\epsilon$-NSGA-II</td>\n",
       "    </tr>\n",
       "    <tr>\n",
       "      <th>2</th>\n",
       "      <td>-0.505661</td>\n",
       "      <td>-9.531446</td>\n",
       "      <td>$\\epsilon$-NSGA-II</td>\n",
       "    </tr>\n",
       "    <tr>\n",
       "      <th>3</th>\n",
       "      <td>-0.237107</td>\n",
       "      <td>-9.631446</td>\n",
       "      <td>$\\epsilon$-NSGA-II</td>\n",
       "    </tr>\n",
       "  </tbody>\n",
       "</table>\n",
       "</div>"
      ],
      "text/plain": [
       "    utility  reliability          Algorithms\n",
       "0  0.000000    -9.831446  $\\epsilon$-NSGA-II\n",
       "1 -0.068554    -9.731446  $\\epsilon$-NSGA-II\n",
       "2 -0.505661    -9.531446  $\\epsilon$-NSGA-II\n",
       "3 -0.237107    -9.631446  $\\epsilon$-NSGA-II"
      ]
     },
     "execution_count": 6,
     "metadata": {},
     "output_type": "execute_result"
    }
   ],
   "source": [
    "ea=[]\n",
    "ea_files = sorted(os.listdir(results_path + files[3]))\n",
    "for i in range(len(ea_files)):\n",
    "    _, all_outcomes=load_results(results_path + files[3] + \"/\" + ea_files[i])\n",
    "    all_outcomes=dict((k, np.mean(all_outcomes[k])) for k in ('upstream_flooding', 'water_demand'))\n",
    "    ea.append(all_outcomes)\n",
    "    print(files[3] + \"/\" + ea_files[i])\n",
    "ea=pd.DataFrame(ea)\n",
    "each_ea_hv = compute_hypervolume(ea, np.array([-1, -10]), np.array([0, -9]))\n",
    "ea = ea.rename(columns={\"upstream_flooding\": \"utility\", \"water_demand\": \"reliability\"})\n",
    "ea[\"Algorithms\"]=\"$\\epsilon$-NSGA-II\"\n",
    "print(each_ea_hv)\n",
    "ea"
   ]
  },
  {
   "cell_type": "code",
   "execution_count": 7,
   "metadata": {
    "scrolled": true,
    "tags": []
   },
   "outputs": [
    {
     "name": "stdout",
     "output_type": "stream",
     "text": [
      "nes_3186775264_28-07-2022-15-08_best.csv\n",
      "0.3699999999999995\n"
     ]
    },
    {
     "data": {
      "text/html": [
       "<div>\n",
       "<style scoped>\n",
       "    .dataframe tbody tr th:only-of-type {\n",
       "        vertical-align: middle;\n",
       "    }\n",
       "\n",
       "    .dataframe tbody tr th {\n",
       "        vertical-align: top;\n",
       "    }\n",
       "\n",
       "    .dataframe thead th {\n",
       "        text-align: right;\n",
       "    }\n",
       "</style>\n",
       "<table border=\"1\" class=\"dataframe\">\n",
       "  <thead>\n",
       "    <tr style=\"text-align: right;\">\n",
       "      <th></th>\n",
       "      <th>utility</th>\n",
       "      <th>reliability</th>\n",
       "      <th>Algorithms</th>\n",
       "    </tr>\n",
       "  </thead>\n",
       "  <tbody>\n",
       "    <tr>\n",
       "      <th>0</th>\n",
       "      <td>-0.068554</td>\n",
       "      <td>-9.731446</td>\n",
       "      <td>MO-NES</td>\n",
       "    </tr>\n",
       "    <tr>\n",
       "      <th>1</th>\n",
       "      <td>-0.805661</td>\n",
       "      <td>-9.531446</td>\n",
       "      <td>MO-NES</td>\n",
       "    </tr>\n",
       "    <tr>\n",
       "      <th>2</th>\n",
       "      <td>0.000000</td>\n",
       "      <td>-9.831446</td>\n",
       "      <td>MO-NES</td>\n",
       "    </tr>\n",
       "    <tr>\n",
       "      <th>3</th>\n",
       "      <td>-0.237107</td>\n",
       "      <td>-9.631446</td>\n",
       "      <td>MO-NES</td>\n",
       "    </tr>\n",
       "    <tr>\n",
       "      <th>4</th>\n",
       "      <td>-0.874214</td>\n",
       "      <td>-9.431446</td>\n",
       "      <td>MO-NES</td>\n",
       "    </tr>\n",
       "  </tbody>\n",
       "</table>\n",
       "</div>"
      ],
      "text/plain": [
       "    utility  reliability Algorithms\n",
       "0 -0.068554    -9.731446     MO-NES\n",
       "1 -0.805661    -9.531446     MO-NES\n",
       "2  0.000000    -9.831446     MO-NES\n",
       "3 -0.237107    -9.631446     MO-NES\n",
       "4 -0.874214    -9.431446     MO-NES"
      ]
     },
     "execution_count": 7,
     "metadata": {},
     "output_type": "execute_result"
    }
   ],
   "source": [
    "path = files[10]\n",
    "nes = pd.read_csv(results_path + path)\n",
    "nes_hv = compute_hypervolume(nes, np.array([-1, -10]), np.array([0, -9]))\n",
    "nes[\"Algorithms\"]=\"MO-NES\"\n",
    "print(path)\n",
    "print(nes_hv)\n",
    "nes"
   ]
  },
  {
   "cell_type": "code",
   "execution_count": 8,
   "metadata": {
    "scrolled": true,
    "tags": []
   },
   "outputs": [
    {
     "name": "stdout",
     "output_type": "stream",
     "text": [
      "repsep_3186775264_28-07-2022-15-09_best.csv\n",
      "0.36844504155596747\n"
     ]
    },
    {
     "data": {
      "text/html": [
       "<div>\n",
       "<style scoped>\n",
       "    .dataframe tbody tr th:only-of-type {\n",
       "        vertical-align: middle;\n",
       "    }\n",
       "\n",
       "    .dataframe tbody tr th {\n",
       "        vertical-align: top;\n",
       "    }\n",
       "\n",
       "    .dataframe thead th {\n",
       "        text-align: right;\n",
       "    }\n",
       "</style>\n",
       "<table border=\"1\" class=\"dataframe\">\n",
       "  <thead>\n",
       "    <tr style=\"text-align: right;\">\n",
       "      <th></th>\n",
       "      <th>utility</th>\n",
       "      <th>reliability</th>\n",
       "      <th>Algorithms</th>\n",
       "    </tr>\n",
       "  </thead>\n",
       "  <tbody>\n",
       "    <tr>\n",
       "      <th>0</th>\n",
       "      <td>-0.237107</td>\n",
       "      <td>-9.631446</td>\n",
       "      <td>MO-eREPS</td>\n",
       "    </tr>\n",
       "    <tr>\n",
       "      <th>1</th>\n",
       "      <td>-0.705661</td>\n",
       "      <td>-9.600000</td>\n",
       "      <td>MO-eREPS</td>\n",
       "    </tr>\n",
       "    <tr>\n",
       "      <th>2</th>\n",
       "      <td>-0.068554</td>\n",
       "      <td>-9.731446</td>\n",
       "      <td>MO-eREPS</td>\n",
       "    </tr>\n",
       "    <tr>\n",
       "      <th>3</th>\n",
       "      <td>0.000000</td>\n",
       "      <td>-9.831446</td>\n",
       "      <td>MO-eREPS</td>\n",
       "    </tr>\n",
       "    <tr>\n",
       "      <th>4</th>\n",
       "      <td>-0.874214</td>\n",
       "      <td>-9.431446</td>\n",
       "      <td>MO-eREPS</td>\n",
       "    </tr>\n",
       "  </tbody>\n",
       "</table>\n",
       "</div>"
      ],
      "text/plain": [
       "    utility  reliability Algorithms\n",
       "0 -0.237107    -9.631446   MO-eREPS\n",
       "1 -0.705661    -9.600000   MO-eREPS\n",
       "2 -0.068554    -9.731446   MO-eREPS\n",
       "3  0.000000    -9.831446   MO-eREPS\n",
       "4 -0.874214    -9.431446   MO-eREPS"
      ]
     },
     "execution_count": 8,
     "metadata": {},
     "output_type": "execute_result"
    }
   ],
   "source": [
    "path = files[20]\n",
    "repsep = pd.read_csv(results_path + path)\n",
    "repsep_hv = compute_hypervolume(repsep, np.array([-1, -10]), np.array([0, -9]))\n",
    "repsep[\"Algorithms\"]=\"MO-eREPS\"\n",
    "print(path)\n",
    "print(repsep_hv)\n",
    "repsep"
   ]
  },
  {
   "cell_type": "code",
   "execution_count": 9,
   "metadata": {},
   "outputs": [
    {
     "data": {
      "image/png": "[encoded data removed]",
      "text/plain": [
       "<Figure size 900x600 with 1 Axes>"
      ]
     },
     "metadata": {
      "needs_background": "light"
     },
     "output_type": "display_data"
    }
   ],
   "source": [
    "import seaborn as sns\n",
    "import matplotlib.pyplot as plt\n",
    "data=pd.concat([ea, nes, repsep])\n",
    "plt.figure(figsize=(9,6), dpi= 100)\n",
    "sns.scatterplot(data=data, x=\"utility\", y=\"reliability\", hue=\"Algorithms\", style=\"Algorithms\", s=100)\n",
    "plt.xlabel(\"Utility\")\n",
    "plt.ylabel(\"Reliability\")\n",
    "plt.legend()\n",
    "plt.show()"
   ]
  },
  {
   "cell_type": "markdown",
   "metadata": {},
   "source": [
    "# Deep Dam Problem"
   ]
  },
  {
   "cell_type": "code",
   "execution_count": 10,
   "metadata": {
    "scrolled": true,
    "tags": []
   },
   "outputs": [
    {
     "data": {
      "text/plain": [
       "['.DS_Store',\n",
       " 'ea_10th_1926216712',\n",
       " 'ea_10th_3087161096',\n",
       " 'ea_10th_3186775264',\n",
       " 'ea_10th_3690172787',\n",
       " 'ea_10th_462638671',\n",
       " 'ea_avg_1926216712',\n",
       " 'ea_avg_3087161096',\n",
       " 'ea_avg_3186775264',\n",
       " 'ea_avg_3690172787',\n",
       " 'ea_avg_462638671',\n",
       " 'nes_10th_200_19-08-2022-15-37_best.csv',\n",
       " 'nes_10th_200_19-08-2022-15-39_high.csv',\n",
       " 'nes_10th_200_19-08-2022-15-41_best.csv',\n",
       " 'nes_10th_200_19-08-2022-15-43_high.csv',\n",
       " 'nes_10th_200_19-08-2022-15-45_best.csv',\n",
       " 'nes_10th_200_19-08-2022-15-47_high.csv',\n",
       " 'nes_10th_200_19-08-2022-15-49_best.csv',\n",
       " 'nes_10th_200_19-08-2022-15-50_high.csv',\n",
       " 'nes_10th_200_19-08-2022-15-52_best.csv',\n",
       " 'nes_10th_200_19-08-2022-15-54_high.csv',\n",
       " 'nes_avg_200_19-08-2022-15-56_best.csv',\n",
       " 'nes_avg_200_19-08-2022-15-58_high.csv',\n",
       " 'nes_avg_200_19-08-2022-16-00_best.csv',\n",
       " 'nes_avg_200_19-08-2022-16-01_high.csv',\n",
       " 'nes_avg_200_19-08-2022-16-03_best.csv',\n",
       " 'nes_avg_200_19-08-2022-16-05_high.csv',\n",
       " 'nes_avg_200_19-08-2022-16-07_best.csv',\n",
       " 'nes_avg_200_19-08-2022-16-08_high.csv',\n",
       " 'nes_avg_200_19-08-2022-16-10_best.csv',\n",
       " 'nes_avg_200_19-08-2022-16-12_high.csv',\n",
       " 'repsep_10th_200_19-08-2022-16-14_best.csv',\n",
       " 'repsep_10th_200_19-08-2022-16-16_high.csv',\n",
       " 'repsep_10th_200_19-08-2022-16-18_best.csv',\n",
       " 'repsep_10th_200_19-08-2022-16-20_high.csv',\n",
       " 'repsep_10th_200_19-08-2022-16-22_best.csv',\n",
       " 'repsep_10th_200_19-08-2022-16-24_high.csv',\n",
       " 'repsep_10th_200_19-08-2022-16-25_best.csv',\n",
       " 'repsep_10th_200_19-08-2022-16-27_high.csv',\n",
       " 'repsep_10th_200_19-08-2022-16-30_best.csv',\n",
       " 'repsep_10th_200_19-08-2022-16-32_high.csv',\n",
       " 'repsep_avg_200_19-08-2022-16-34_best.csv',\n",
       " 'repsep_avg_200_19-08-2022-16-36_high.csv',\n",
       " 'repsep_avg_200_19-08-2022-16-38_best.csv',\n",
       " 'repsep_avg_200_19-08-2022-16-41_high.csv',\n",
       " 'repsep_avg_200_19-08-2022-16-43_best.csv',\n",
       " 'repsep_avg_200_19-08-2022-16-45_high.csv',\n",
       " 'repsep_avg_200_19-08-2022-16-48_best.csv',\n",
       " 'repsep_avg_200_19-08-2022-16-50_high.csv',\n",
       " 'repsep_avg_200_19-08-2022-16-52_best.csv',\n",
       " 'repsep_avg_200_19-08-2022-16-54_high.csv']"
      ]
     },
     "execution_count": 10,
     "metadata": {},
     "output_type": "execute_result"
    }
   ],
   "source": [
    "results_path='../../results/dam_deep_performance_1/'\n",
    "files=sorted(os.listdir(results_path))\n",
    "files"
   ]
  },
  {
   "cell_type": "code",
   "execution_count": 11,
   "metadata": {
    "scrolled": true,
    "tags": []
   },
   "outputs": [
    {
     "name": "stdout",
     "output_type": "stream",
     "text": [
      "ea_10th_1926216712\n",
      "0.44819766633853847\n",
      "ea_10th_3087161096\n",
      "0.42310527683490406\n",
      "ea_10th_3186775264\n",
      "0.468461065863366\n",
      "ea_10th_3690172787\n",
      "0.46814018516559863\n",
      "ea_10th_462638671\n",
      "0.4803971172413121\n",
      "0.4576602622887438\n",
      "0.020134738420592633\n",
      "[0.66549547 0.87848758]\n"
     ]
    }
   ],
   "source": [
    "ea_10th_hv=[]\n",
    "ea_10th_std=[]\n",
    "for i in range(1, 6):\n",
    "    ea=[]\n",
    "    ea_std=[]\n",
    "    ea_files=sorted(os.listdir(results_path + files[i]))\n",
    "    for j in range(len(ea_files)):\n",
    "        _, all_outcomes=load_results(results_path + files[i] + \"/\" + ea_files[j])\n",
    "        all_std_outcomes=[np.std(all_outcomes[k]) for k in ('upstream_flooding', 'water_demand')]\n",
    "        all_outcomes=dict((k, np.mean(all_outcomes[k])) for k in ('upstream_flooding', 'water_demand'))\n",
    "        ea.append(all_outcomes)\n",
    "        ea_std.append(all_std_outcomes)\n",
    "    ea=pd.DataFrame(ea)\n",
    "    each_ea_10th_hv=compute_hypervolume(ea, np.array([-8, -12]), np.array([0, -8.5]))\n",
    "    ea_10th_hv.append(each_ea_10th_hv)\n",
    "    ea_10th_std.append(np.array(ea_std).mean(axis=0))\n",
    "    print(files[i])\n",
    "    # print(ea)\n",
    "    print(each_ea_10th_hv)\n",
    "ea_10th_hv=np.array(ea_10th_hv)\n",
    "print(ea_10th_hv.mean())\n",
    "print(ea_10th_hv.std())\n",
    "ea_10th_std=np.array(ea_10th_std)\n",
    "print(ea_10th_std.mean(axis=0))"
   ]
  },
  {
   "cell_type": "code",
   "execution_count": 12,
   "metadata": {
    "scrolled": true,
    "tags": []
   },
   "outputs": [
    {
     "name": "stdout",
     "output_type": "stream",
     "text": [
      "ea_avg_1926216712\n",
      "0.4984479630368789\n",
      "ea_avg_3087161096\n",
      "0.5370297623935961\n",
      "ea_avg_3186775264\n",
      "0.4722563904951202\n",
      "ea_avg_3690172787\n",
      "0.5185684295339841\n",
      "ea_avg_462638671\n",
      "0.4932341555009759\n",
      "0.503907340192111\n",
      "0.022170009834365942\n",
      "[0.82611299 0.88848837]\n"
     ]
    }
   ],
   "source": [
    "ea_10th_hv=[]\n",
    "ea_10th_std=[]\n",
    "for i in range(6, 11):\n",
    "    ea=[]\n",
    "    ea_std=[]\n",
    "    ea_files=sorted(os.listdir(results_path + files[i]))\n",
    "    for j in range(len(ea_files)):\n",
    "        _, all_outcomes=load_results(results_path + files[i] + \"/\" + ea_files[j])\n",
    "        all_std_outcomes=[np.std(all_outcomes[k]) for k in ('upstream_flooding', 'water_demand')]\n",
    "        all_outcomes=dict((k, np.mean(all_outcomes[k])) for k in ('upstream_flooding', 'water_demand'))\n",
    "        ea.append(all_outcomes)\n",
    "        ea_std.append(all_std_outcomes)\n",
    "    ea=pd.DataFrame(ea)\n",
    "    each_ea_10th_hv=compute_hypervolume(ea, np.array([-8, -12]), np.array([0, -8.5]))\n",
    "    ea_10th_hv.append(each_ea_10th_hv)\n",
    "    ea_10th_std.append(np.array(ea_std).mean(axis=0))\n",
    "    print(files[i])\n",
    "    # print(ea)\n",
    "    print(each_ea_10th_hv)\n",
    "ea_10th_hv=np.array(ea_10th_hv)\n",
    "print(ea_10th_hv.mean())\n",
    "print(ea_10th_hv.std())\n",
    "ea_10th_std=np.array(ea_10th_std)\n",
    "print(ea_10th_std.mean(axis=0))"
   ]
  },
  {
   "cell_type": "code",
   "execution_count": 13,
   "metadata": {},
   "outputs": [
    {
     "name": "stdout",
     "output_type": "stream",
     "text": [
      "nes_10th_200_19-08-2022-15-37_best.csv\n",
      "0.6607034823656461\n",
      "nes_10th_200_19-08-2022-15-41_best.csv\n",
      "0.6587490870795973\n",
      "nes_10th_200_19-08-2022-15-45_best.csv\n",
      "0.65815804358201\n",
      "nes_10th_200_19-08-2022-15-49_best.csv\n",
      "0.6588628159630068\n",
      "nes_10th_200_19-08-2022-15-52_best.csv\n",
      "0.6577097321201306\n",
      "0.6588366322220782\n",
      "0.0010221414364949373\n",
      "[0.86152594 0.9490415 ]\n"
     ]
    }
   ],
   "source": [
    "nes_10th_hv = []\n",
    "nes_10th_std = []\n",
    "for i in range(11, 20, 2):\n",
    "    path = files[i]\n",
    "    nes = pd.read_csv(results_path + path)\n",
    "    nes_std = nes.iloc[:, 2:]\n",
    "    nes = nes.iloc[:, :2]\n",
    "    each_nes_10th_hv = compute_hypervolume(nes, np.array([-8, -12]), np.array([0, -8.5]))\n",
    "    nes_10th_hv.append(each_nes_10th_hv)\n",
    "    nes_10th_std.append(np.array(nes_std.values).mean(axis=0))\n",
    "    print(path)\n",
    "    # print(nes)\n",
    "    print(each_nes_10th_hv)\n",
    "nes_10th_hv = np.array(nes_10th_hv)\n",
    "nes_10th_std = np.array(nes_10th_std)\n",
    "print(nes_10th_hv.mean())\n",
    "print(nes_10th_hv.std())\n",
    "print(nes_10th_std.mean(axis=0))"
   ]
  },
  {
   "cell_type": "code",
   "execution_count": 14,
   "metadata": {},
   "outputs": [
    {
     "name": "stdout",
     "output_type": "stream",
     "text": [
      "nes_avg_200_19-08-2022-15-56_best.csv\n",
      "0.6595993129395217\n",
      "nes_avg_200_19-08-2022-16-00_best.csv\n",
      "0.6739207193688377\n",
      "nes_avg_200_19-08-2022-16-03_best.csv\n",
      "0.6758279886161354\n",
      "nes_avg_200_19-08-2022-16-07_best.csv\n",
      "0.6773334515845253\n",
      "nes_avg_200_19-08-2022-16-10_best.csv\n",
      "0.6601944822211483\n",
      "0.6693751909460337\n",
      "0.007816489522712166\n",
      "[0.89800345 0.95158256]\n"
     ]
    }
   ],
   "source": [
    "nes_10th_hv = []\n",
    "nes_10th_std = []\n",
    "for i in range(21, 30, 2):\n",
    "    path = files[i]\n",
    "    nes = pd.read_csv(results_path + path)\n",
    "    nes_std = nes.iloc[:, 2:]\n",
    "    nes = nes.iloc[:, :2]\n",
    "    each_nes_10th_hv = compute_hypervolume(nes, np.array([-8, -12]), np.array([0, -8.5]))\n",
    "    nes_10th_hv.append(each_nes_10th_hv)\n",
    "    nes_10th_std.append(np.array(nes_std.values).mean(axis=0))\n",
    "    print(path)\n",
    "    # print(nes)\n",
    "    print(each_nes_10th_hv)\n",
    "nes_10th_hv = np.array(nes_10th_hv)\n",
    "nes_10th_std = np.array(nes_10th_std)\n",
    "print(nes_10th_hv.mean())\n",
    "print(nes_10th_hv.std())\n",
    "print(nes_10th_std.mean(axis=0))"
   ]
  },
  {
   "cell_type": "code",
   "execution_count": 15,
   "metadata": {},
   "outputs": [
    {
     "name": "stdout",
     "output_type": "stream",
     "text": [
      "repsep_10th_200_19-08-2022-16-14_best.csv\n",
      "0.6575820638559082\n",
      "repsep_10th_200_19-08-2022-16-18_best.csv\n",
      "0.6576318357554057\n",
      "repsep_10th_200_19-08-2022-16-22_best.csv\n",
      "0.6525179660754896\n",
      "repsep_10th_200_19-08-2022-16-25_best.csv\n",
      "0.6584676449903972\n",
      "repsep_10th_200_19-08-2022-16-30_best.csv\n",
      "0.659325060649139\n",
      "0.657104914265268\n",
      "0.0023803989866976044\n",
      "[0.87621234 0.9541613 ]\n"
     ]
    }
   ],
   "source": [
    "nes_10th_hv = []\n",
    "nes_10th_std = []\n",
    "for i in range(31, 40, 2):\n",
    "    path = files[i]\n",
    "    nes = pd.read_csv(results_path + path)\n",
    "    nes_std = nes.iloc[:, 2:]\n",
    "    nes = nes.iloc[:, :2]\n",
    "    each_nes_10th_hv = compute_hypervolume(nes, np.array([-8, -12]), np.array([0, -8.5]))\n",
    "    nes_10th_hv.append(each_nes_10th_hv)\n",
    "    nes_10th_std.append(np.array(nes_std.values).mean(axis=0))\n",
    "    print(path)\n",
    "    # print(nes)\n",
    "    print(each_nes_10th_hv)\n",
    "nes_10th_hv = np.array(nes_10th_hv)\n",
    "nes_10th_std = np.array(nes_10th_std)\n",
    "print(nes_10th_hv.mean())\n",
    "print(nes_10th_hv.std())\n",
    "print(nes_10th_std.mean(axis=0))"
   ]
  },
  {
   "cell_type": "code",
   "execution_count": 16,
   "metadata": {},
   "outputs": [
    {
     "name": "stdout",
     "output_type": "stream",
     "text": [
      "repsep_avg_200_19-08-2022-16-34_best.csv\n",
      "0.6594823184872893\n",
      "repsep_avg_200_19-08-2022-16-38_best.csv\n",
      "0.6766259850425524\n",
      "repsep_avg_200_19-08-2022-16-43_best.csv\n",
      "0.672092054572154\n",
      "repsep_avg_200_19-08-2022-16-48_best.csv\n",
      "0.6623540153509475\n",
      "repsep_avg_200_19-08-2022-16-52_best.csv\n",
      "0.6776399645697129\n",
      "0.6696388676045313\n",
      "0.007417277820933289\n",
      "[1.03337279 0.95982547]\n"
     ]
    }
   ],
   "source": [
    "nes_10th_hv = []\n",
    "nes_10th_std = []\n",
    "for i in range(41, 50, 2):\n",
    "    path = files[i]\n",
    "    nes = pd.read_csv(results_path + path)\n",
    "    nes_std = nes.iloc[:, 2:]\n",
    "    nes = nes.iloc[:, :2]\n",
    "    each_nes_10th_hv = compute_hypervolume(nes, np.array([-8, -12]), np.array([0, -8.5]))\n",
    "    nes_10th_hv.append(each_nes_10th_hv)\n",
    "    nes_10th_std.append(np.array(nes_std.values).mean(axis=0))\n",
    "    print(path)\n",
    "    # print(nes)\n",
    "    print(each_nes_10th_hv)\n",
    "nes_10th_hv = np.array(nes_10th_hv)\n",
    "nes_10th_std = np.array(nes_10th_std)\n",
    "print(nes_10th_hv.mean())\n",
    "print(nes_10th_hv.std())\n",
    "print(nes_10th_std.mean(axis=0))"
   ]
  },
  {
   "cell_type": "code",
   "execution_count": null,
   "metadata": {},
   "outputs": [],
   "source": []
  },
  {
   "cell_type": "code",
   "execution_count": 17,
   "metadata": {
    "scrolled": true,
    "tags": []
   },
   "outputs": [
    {
     "name": "stdout",
     "output_type": "stream",
     "text": [
      "ea_avg_3186775264/16-08-2022-15-23_0.tar.gz\n",
      "ea_avg_3186775264/16-08-2022-15-23_1.tar.gz\n",
      "ea_avg_3186775264/16-08-2022-15-23_10.tar.gz\n",
      "ea_avg_3186775264/16-08-2022-15-23_11.tar.gz\n",
      "ea_avg_3186775264/16-08-2022-15-23_12.tar.gz\n",
      "ea_avg_3186775264/16-08-2022-15-23_13.tar.gz\n",
      "ea_avg_3186775264/16-08-2022-15-23_14.tar.gz\n",
      "ea_avg_3186775264/16-08-2022-15-23_15.tar.gz\n",
      "ea_avg_3186775264/16-08-2022-15-23_16.tar.gz\n",
      "ea_avg_3186775264/16-08-2022-15-23_17.tar.gz\n",
      "ea_avg_3186775264/16-08-2022-15-23_18.tar.gz\n",
      "ea_avg_3186775264/16-08-2022-15-23_2.tar.gz\n",
      "ea_avg_3186775264/16-08-2022-15-23_3.tar.gz\n",
      "ea_avg_3186775264/16-08-2022-15-23_4.tar.gz\n",
      "ea_avg_3186775264/16-08-2022-15-23_5.tar.gz\n",
      "ea_avg_3186775264/16-08-2022-15-23_6.tar.gz\n",
      "ea_avg_3186775264/16-08-2022-15-23_7.tar.gz\n",
      "ea_avg_3186775264/16-08-2022-15-23_8.tar.gz\n",
      "ea_avg_3186775264/16-08-2022-15-23_9.tar.gz\n",
      "0.4722563904951202\n"
     ]
    },
    {
     "data": {
      "text/html": [
       "<div>\n",
       "<style scoped>\n",
       "    .dataframe tbody tr th:only-of-type {\n",
       "        vertical-align: middle;\n",
       "    }\n",
       "\n",
       "    .dataframe tbody tr th {\n",
       "        vertical-align: top;\n",
       "    }\n",
       "\n",
       "    .dataframe thead th {\n",
       "        text-align: right;\n",
       "    }\n",
       "</style>\n",
       "<table border=\"1\" class=\"dataframe\">\n",
       "  <thead>\n",
       "    <tr style=\"text-align: right;\">\n",
       "      <th></th>\n",
       "      <th>upstream_flooding</th>\n",
       "      <th>water_demand</th>\n",
       "      <th>Algorithms</th>\n",
       "    </tr>\n",
       "  </thead>\n",
       "  <tbody>\n",
       "    <tr>\n",
       "      <th>0</th>\n",
       "      <td>-3.951604</td>\n",
       "      <td>-9.855621</td>\n",
       "      <td>$\\epsilon$-NSGA-II</td>\n",
       "    </tr>\n",
       "    <tr>\n",
       "      <th>1</th>\n",
       "      <td>-2.955052</td>\n",
       "      <td>-10.048018</td>\n",
       "      <td>$\\epsilon$-NSGA-II</td>\n",
       "    </tr>\n",
       "    <tr>\n",
       "      <th>2</th>\n",
       "      <td>-1.533265</td>\n",
       "      <td>-10.322967</td>\n",
       "      <td>$\\epsilon$-NSGA-II</td>\n",
       "    </tr>\n",
       "    <tr>\n",
       "      <th>3</th>\n",
       "      <td>-2.264517</td>\n",
       "      <td>-10.104908</td>\n",
       "      <td>$\\epsilon$-NSGA-II</td>\n",
       "    </tr>\n",
       "    <tr>\n",
       "      <th>4</th>\n",
       "      <td>-1.554516</td>\n",
       "      <td>-10.323739</td>\n",
       "      <td>$\\epsilon$-NSGA-II</td>\n",
       "    </tr>\n",
       "    <tr>\n",
       "      <th>5</th>\n",
       "      <td>-1.541917</td>\n",
       "      <td>-10.339251</td>\n",
       "      <td>$\\epsilon$-NSGA-II</td>\n",
       "    </tr>\n",
       "    <tr>\n",
       "      <th>6</th>\n",
       "      <td>-2.248488</td>\n",
       "      <td>-10.125415</td>\n",
       "      <td>$\\epsilon$-NSGA-II</td>\n",
       "    </tr>\n",
       "    <tr>\n",
       "      <th>7</th>\n",
       "      <td>-1.532854</td>\n",
       "      <td>-10.320203</td>\n",
       "      <td>$\\epsilon$-NSGA-II</td>\n",
       "    </tr>\n",
       "    <tr>\n",
       "      <th>8</th>\n",
       "      <td>-1.550801</td>\n",
       "      <td>-10.315606</td>\n",
       "      <td>$\\epsilon$-NSGA-II</td>\n",
       "    </tr>\n",
       "    <tr>\n",
       "      <th>9</th>\n",
       "      <td>-1.534566</td>\n",
       "      <td>-10.307631</td>\n",
       "      <td>$\\epsilon$-NSGA-II</td>\n",
       "    </tr>\n",
       "    <tr>\n",
       "      <th>10</th>\n",
       "      <td>-2.270350</td>\n",
       "      <td>-10.093879</td>\n",
       "      <td>$\\epsilon$-NSGA-II</td>\n",
       "    </tr>\n",
       "    <tr>\n",
       "      <th>11</th>\n",
       "      <td>-1.577245</td>\n",
       "      <td>-10.322124</td>\n",
       "      <td>$\\epsilon$-NSGA-II</td>\n",
       "    </tr>\n",
       "    <tr>\n",
       "      <th>12</th>\n",
       "      <td>-1.540578</td>\n",
       "      <td>-10.382152</td>\n",
       "      <td>$\\epsilon$-NSGA-II</td>\n",
       "    </tr>\n",
       "    <tr>\n",
       "      <th>13</th>\n",
       "      <td>-1.566762</td>\n",
       "      <td>-10.309253</td>\n",
       "      <td>$\\epsilon$-NSGA-II</td>\n",
       "    </tr>\n",
       "    <tr>\n",
       "      <th>14</th>\n",
       "      <td>-1.547681</td>\n",
       "      <td>-10.354385</td>\n",
       "      <td>$\\epsilon$-NSGA-II</td>\n",
       "    </tr>\n",
       "    <tr>\n",
       "      <th>15</th>\n",
       "      <td>-1.560422</td>\n",
       "      <td>-10.330756</td>\n",
       "      <td>$\\epsilon$-NSGA-II</td>\n",
       "    </tr>\n",
       "    <tr>\n",
       "      <th>16</th>\n",
       "      <td>-1.582742</td>\n",
       "      <td>-10.293476</td>\n",
       "      <td>$\\epsilon$-NSGA-II</td>\n",
       "    </tr>\n",
       "    <tr>\n",
       "      <th>17</th>\n",
       "      <td>-1.514807</td>\n",
       "      <td>-10.374232</td>\n",
       "      <td>$\\epsilon$-NSGA-II</td>\n",
       "    </tr>\n",
       "    <tr>\n",
       "      <th>18</th>\n",
       "      <td>-2.249145</td>\n",
       "      <td>-10.093901</td>\n",
       "      <td>$\\epsilon$-NSGA-II</td>\n",
       "    </tr>\n",
       "  </tbody>\n",
       "</table>\n",
       "</div>"
      ],
      "text/plain": [
       "    upstream_flooding  water_demand          Algorithms\n",
       "0           -3.951604     -9.855621  $\\epsilon$-NSGA-II\n",
       "1           -2.955052    -10.048018  $\\epsilon$-NSGA-II\n",
       "2           -1.533265    -10.322967  $\\epsilon$-NSGA-II\n",
       "3           -2.264517    -10.104908  $\\epsilon$-NSGA-II\n",
       "4           -1.554516    -10.323739  $\\epsilon$-NSGA-II\n",
       "5           -1.541917    -10.339251  $\\epsilon$-NSGA-II\n",
       "6           -2.248488    -10.125415  $\\epsilon$-NSGA-II\n",
       "7           -1.532854    -10.320203  $\\epsilon$-NSGA-II\n",
       "8           -1.550801    -10.315606  $\\epsilon$-NSGA-II\n",
       "9           -1.534566    -10.307631  $\\epsilon$-NSGA-II\n",
       "10          -2.270350    -10.093879  $\\epsilon$-NSGA-II\n",
       "11          -1.577245    -10.322124  $\\epsilon$-NSGA-II\n",
       "12          -1.540578    -10.382152  $\\epsilon$-NSGA-II\n",
       "13          -1.566762    -10.309253  $\\epsilon$-NSGA-II\n",
       "14          -1.547681    -10.354385  $\\epsilon$-NSGA-II\n",
       "15          -1.560422    -10.330756  $\\epsilon$-NSGA-II\n",
       "16          -1.582742    -10.293476  $\\epsilon$-NSGA-II\n",
       "17          -1.514807    -10.374232  $\\epsilon$-NSGA-II\n",
       "18          -2.249145    -10.093901  $\\epsilon$-NSGA-II"
      ]
     },
     "execution_count": 17,
     "metadata": {},
     "output_type": "execute_result"
    }
   ],
   "source": [
    "ea=[]\n",
    "ea_files = sorted(os.listdir(results_path + files[8]))\n",
    "for i in range(len(ea_files)):\n",
    "    _, all_outcomes=load_results(results_path + files[8] + \"/\" + ea_files[i])\n",
    "    all_outcomes=dict((k, np.mean(all_outcomes[k])) for k in ('upstream_flooding', 'water_demand'))\n",
    "    ea.append(all_outcomes)\n",
    "    print(files[8] + \"/\" + ea_files[i])\n",
    "ea=pd.DataFrame(ea)\n",
    "each_ea_hv = compute_hypervolume(ea, np.array([-8, -12]), np.array([0, -8.5]))\n",
    "ea[\"Algorithms\"]=\"$\\epsilon$-NSGA-II\"\n",
    "print(each_ea_hv)\n",
    "ea"
   ]
  },
  {
   "cell_type": "code",
   "execution_count": 18,
   "metadata": {
    "scrolled": true,
    "tags": []
   },
   "outputs": [
    {
     "name": "stdout",
     "output_type": "stream",
     "text": [
      "nes_avg_200_19-08-2022-16-03_best.csv\n",
      "0.6758279886161354\n"
     ]
    },
    {
     "data": {
      "text/html": [
       "<div>\n",
       "<style scoped>\n",
       "    .dataframe tbody tr th:only-of-type {\n",
       "        vertical-align: middle;\n",
       "    }\n",
       "\n",
       "    .dataframe tbody tr th {\n",
       "        vertical-align: top;\n",
       "    }\n",
       "\n",
       "    .dataframe thead th {\n",
       "        text-align: right;\n",
       "    }\n",
       "</style>\n",
       "<table border=\"1\" class=\"dataframe\">\n",
       "  <thead>\n",
       "    <tr style=\"text-align: right;\">\n",
       "      <th></th>\n",
       "      <th>upstream_flooding</th>\n",
       "      <th>water_demand</th>\n",
       "      <th>Algorithms</th>\n",
       "    </tr>\n",
       "  </thead>\n",
       "  <tbody>\n",
       "    <tr>\n",
       "      <th>0</th>\n",
       "      <td>-1.833885</td>\n",
       "      <td>-9.679643</td>\n",
       "      <td>MO-NES</td>\n",
       "    </tr>\n",
       "    <tr>\n",
       "      <th>1</th>\n",
       "      <td>-4.360225</td>\n",
       "      <td>-9.098935</td>\n",
       "      <td>MO-NES</td>\n",
       "    </tr>\n",
       "    <tr>\n",
       "      <th>2</th>\n",
       "      <td>-1.798509</td>\n",
       "      <td>-9.719604</td>\n",
       "      <td>MO-NES</td>\n",
       "    </tr>\n",
       "    <tr>\n",
       "      <th>3</th>\n",
       "      <td>-2.150224</td>\n",
       "      <td>-9.497613</td>\n",
       "      <td>MO-NES</td>\n",
       "    </tr>\n",
       "    <tr>\n",
       "      <th>4</th>\n",
       "      <td>-1.371142</td>\n",
       "      <td>-10.555731</td>\n",
       "      <td>MO-NES</td>\n",
       "    </tr>\n",
       "    <tr>\n",
       "      <th>...</th>\n",
       "      <td>...</td>\n",
       "      <td>...</td>\n",
       "      <td>...</td>\n",
       "    </tr>\n",
       "    <tr>\n",
       "      <th>105</th>\n",
       "      <td>-1.839440</td>\n",
       "      <td>-9.679354</td>\n",
       "      <td>MO-NES</td>\n",
       "    </tr>\n",
       "    <tr>\n",
       "      <th>106</th>\n",
       "      <td>-3.813623</td>\n",
       "      <td>-9.157344</td>\n",
       "      <td>MO-NES</td>\n",
       "    </tr>\n",
       "    <tr>\n",
       "      <th>107</th>\n",
       "      <td>-1.503325</td>\n",
       "      <td>-10.141529</td>\n",
       "      <td>MO-NES</td>\n",
       "    </tr>\n",
       "    <tr>\n",
       "      <th>108</th>\n",
       "      <td>-1.740598</td>\n",
       "      <td>-9.784557</td>\n",
       "      <td>MO-NES</td>\n",
       "    </tr>\n",
       "    <tr>\n",
       "      <th>109</th>\n",
       "      <td>-2.397277</td>\n",
       "      <td>-9.403925</td>\n",
       "      <td>MO-NES</td>\n",
       "    </tr>\n",
       "  </tbody>\n",
       "</table>\n",
       "<p>110 rows × 3 columns</p>\n",
       "</div>"
      ],
      "text/plain": [
       "     upstream_flooding  water_demand Algorithms\n",
       "0            -1.833885     -9.679643     MO-NES\n",
       "1            -4.360225     -9.098935     MO-NES\n",
       "2            -1.798509     -9.719604     MO-NES\n",
       "3            -2.150224     -9.497613     MO-NES\n",
       "4            -1.371142    -10.555731     MO-NES\n",
       "..                 ...           ...        ...\n",
       "105          -1.839440     -9.679354     MO-NES\n",
       "106          -3.813623     -9.157344     MO-NES\n",
       "107          -1.503325    -10.141529     MO-NES\n",
       "108          -1.740598     -9.784557     MO-NES\n",
       "109          -2.397277     -9.403925     MO-NES\n",
       "\n",
       "[110 rows x 3 columns]"
      ]
     },
     "execution_count": 18,
     "metadata": {},
     "output_type": "execute_result"
    }
   ],
   "source": [
    "path = files[25]\n",
    "nes = pd.read_csv(results_path + path)\n",
    "nes = nes[['upstream_flooding', 'water_demand']]\n",
    "nes_hv = compute_hypervolume(nes, np.array([-8, -12]), np.array([0, -8.5]))\n",
    "nes[\"Algorithms\"]=\"MO-NES\"\n",
    "print(path)\n",
    "print(nes_hv)\n",
    "nes"
   ]
  },
  {
   "cell_type": "code",
   "execution_count": 19,
   "metadata": {
    "scrolled": true,
    "tags": []
   },
   "outputs": [
    {
     "name": "stdout",
     "output_type": "stream",
     "text": [
      "repsep_avg_200_19-08-2022-16-43_best.csv\n",
      "0.672092054572154\n"
     ]
    },
    {
     "data": {
      "text/html": [
       "<div>\n",
       "<style scoped>\n",
       "    .dataframe tbody tr th:only-of-type {\n",
       "        vertical-align: middle;\n",
       "    }\n",
       "\n",
       "    .dataframe tbody tr th {\n",
       "        vertical-align: top;\n",
       "    }\n",
       "\n",
       "    .dataframe thead th {\n",
       "        text-align: right;\n",
       "    }\n",
       "</style>\n",
       "<table border=\"1\" class=\"dataframe\">\n",
       "  <thead>\n",
       "    <tr style=\"text-align: right;\">\n",
       "      <th></th>\n",
       "      <th>upstream_flooding</th>\n",
       "      <th>water_demand</th>\n",
       "      <th>Algorithms</th>\n",
       "    </tr>\n",
       "  </thead>\n",
       "  <tbody>\n",
       "    <tr>\n",
       "      <th>0</th>\n",
       "      <td>-2.123381</td>\n",
       "      <td>-9.505203</td>\n",
       "      <td>MO-eREPS</td>\n",
       "    </tr>\n",
       "    <tr>\n",
       "      <th>1</th>\n",
       "      <td>-1.793789</td>\n",
       "      <td>-9.900656</td>\n",
       "      <td>MO-eREPS</td>\n",
       "    </tr>\n",
       "    <tr>\n",
       "      <th>2</th>\n",
       "      <td>-1.815283</td>\n",
       "      <td>-9.883561</td>\n",
       "      <td>MO-eREPS</td>\n",
       "    </tr>\n",
       "    <tr>\n",
       "      <th>3</th>\n",
       "      <td>-5.235775</td>\n",
       "      <td>-8.954956</td>\n",
       "      <td>MO-eREPS</td>\n",
       "    </tr>\n",
       "    <tr>\n",
       "      <th>4</th>\n",
       "      <td>-2.638886</td>\n",
       "      <td>-9.353313</td>\n",
       "      <td>MO-eREPS</td>\n",
       "    </tr>\n",
       "    <tr>\n",
       "      <th>...</th>\n",
       "      <td>...</td>\n",
       "      <td>...</td>\n",
       "      <td>...</td>\n",
       "    </tr>\n",
       "    <tr>\n",
       "      <th>65</th>\n",
       "      <td>-3.817622</td>\n",
       "      <td>-9.143018</td>\n",
       "      <td>MO-eREPS</td>\n",
       "    </tr>\n",
       "    <tr>\n",
       "      <th>66</th>\n",
       "      <td>-1.581066</td>\n",
       "      <td>-10.187866</td>\n",
       "      <td>MO-eREPS</td>\n",
       "    </tr>\n",
       "    <tr>\n",
       "      <th>67</th>\n",
       "      <td>-2.985953</td>\n",
       "      <td>-9.312713</td>\n",
       "      <td>MO-eREPS</td>\n",
       "    </tr>\n",
       "    <tr>\n",
       "      <th>68</th>\n",
       "      <td>-5.218453</td>\n",
       "      <td>-8.983254</td>\n",
       "      <td>MO-eREPS</td>\n",
       "    </tr>\n",
       "    <tr>\n",
       "      <th>69</th>\n",
       "      <td>-2.074483</td>\n",
       "      <td>-9.536029</td>\n",
       "      <td>MO-eREPS</td>\n",
       "    </tr>\n",
       "  </tbody>\n",
       "</table>\n",
       "<p>70 rows × 3 columns</p>\n",
       "</div>"
      ],
      "text/plain": [
       "    upstream_flooding  water_demand Algorithms\n",
       "0           -2.123381     -9.505203   MO-eREPS\n",
       "1           -1.793789     -9.900656   MO-eREPS\n",
       "2           -1.815283     -9.883561   MO-eREPS\n",
       "3           -5.235775     -8.954956   MO-eREPS\n",
       "4           -2.638886     -9.353313   MO-eREPS\n",
       "..                ...           ...        ...\n",
       "65          -3.817622     -9.143018   MO-eREPS\n",
       "66          -1.581066    -10.187866   MO-eREPS\n",
       "67          -2.985953     -9.312713   MO-eREPS\n",
       "68          -5.218453     -8.983254   MO-eREPS\n",
       "69          -2.074483     -9.536029   MO-eREPS\n",
       "\n",
       "[70 rows x 3 columns]"
      ]
     },
     "execution_count": 19,
     "metadata": {},
     "output_type": "execute_result"
    }
   ],
   "source": [
    "path = files[45]\n",
    "repsep = pd.read_csv(results_path + path)\n",
    "repsep = repsep[['upstream_flooding', 'water_demand']]\n",
    "repsep_hv = compute_hypervolume(repsep, np.array([-8, -12]), np.array([0, -8.5]))\n",
    "repsep[\"Algorithms\"]=\"MO-eREPS\"\n",
    "print(path)\n",
    "print(repsep_hv)\n",
    "repsep"
   ]
  },
  {
   "cell_type": "code",
   "execution_count": 20,
   "metadata": {},
   "outputs": [
    {
     "data": {
      "image/png": "[encoded data removed]",
      "text/plain": [
       "<Figure size 900x600 with 1 Axes>"
      ]
     },
     "metadata": {
      "needs_background": "light"
     },
     "output_type": "display_data"
    }
   ],
   "source": [
    "import seaborn as sns\n",
    "import matplotlib.pyplot as plt\n",
    "data=pd.concat([ea, nes, repsep])\n",
    "plt.figure(figsize=(9,6), dpi= 100)\n",
    "sns.scatterplot(data=data, x=\"upstream_flooding\", y=\"water_demand\", hue=\"Algorithms\", style=\"Algorithms\", s=100)\n",
    "plt.xlabel(\"Utility\")\n",
    "plt.ylabel(\"Reliability\")\n",
    "plt.legend()\n",
    "plt.show()"
   ]
  },
  {
   "cell_type": "code",
   "execution_count": null,
   "metadata": {},
   "outputs": [],
   "source": []
  }
 ],
 "metadata": {
  "kernelspec": {
   "display_name": "Python 3 (ipykernel)",
   "language": "python",
   "name": "python3"
  },
  "language_info": {
   "codemirror_mode": {
    "name": "ipython",
    "version": 3
   },
   "file_extension": ".py",
   "mimetype": "text/x-python",
   "name": "python",
   "nbconvert_exporter": "python",
   "pygments_lexer": "ipython3",
   "version": "3.9.12"
  }
 },
 "nbformat": 4,
 "nbformat_minor": 4
}
